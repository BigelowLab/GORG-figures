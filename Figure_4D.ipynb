{
 "cells": [
  {
   "cell_type": "markdown",
   "metadata": {},
   "source": [
    "Per-genome rarefaction curves drawn using \n",
    "```\n",
    "scripts/190308_gorg_rarefaction_tails.py\n",
    "```"
   ]
  },
  {
   "cell_type": "code",
   "execution_count": 5,
   "metadata": {
    "collapsed": true
   },
   "outputs": [],
   "source": [
    "%matplotlib inline\n",
    "\n",
    "import pandas as pd\n",
    "import os.path as op\n",
    "import os\n",
    "from collections import Counter\n",
    "import random\n",
    "import numpy as np\n",
    "\n",
    "import seaborn as sns\n",
    "import matplotlib\n",
    "import matplotlib.pyplot as plt\n",
    "\n",
    "import sklearn.metrics\n",
    "import statistics\n",
    "import math\n",
    "\n",
    "def fit(df, x, y):\n",
    "    \n",
    "    def _check_fit(p, x, y):\n",
    "        predicted = [p(i) for i in x]\n",
    "        observed = y\n",
    "        residuals = [x-y for x, y in zip(predicted, observed)]\n",
    "        r2 = sklearn.metrics.r2_score(observed, predicted)\n",
    "        stdev = np.std(residuals)\n",
    "        return r2, stdev\n",
    "\n",
    "    x = [float(i) for i in df[x].values]\n",
    "    y = [float(i) for i in df[y].values]\n",
    "\n",
    "    z = np.polyfit(x, y, 1)\n",
    "    p = np.poly1d(z)\n",
    "    r2_order1, sd_order1 = _check_fit(p, x, y)\n",
    "    return p, r2_order1, sd_order1\n",
    "\n",
    "\n",
    "wd = \"/mnt/scgc/simon/simonsproject/gorg-clustering/\"\n",
    "os.chdir(wd)\n"
   ]
  },
  {
   "cell_type": "code",
   "execution_count": 6,
   "metadata": {},
   "outputs": [],
   "source": [
    "df = pd.read_csv(\"analyses/190308_tail_rarefaction_calculations.csv\")\n",
    "df1s = df[df['sag_start'] == 1]"
   ]
  },
  {
   "cell_type": "code",
   "execution_count": 7,
   "metadata": {},
   "outputs": [],
   "source": [
    "means = []\n",
    "sds = []\n",
    "groups = []\n",
    "for g in df1s['group'].unique():\n",
    "    slopes = []\n",
    "    for i in df1s[df1s['group'] == g]['iteration'].unique():\n",
    "\n",
    "        idf = df1s[(df1s['group'] == g) & (df1s['iteration'] == i)]\n",
    "        \n",
    "        last_10 = idf[-10:].copy()\n",
    "        last_10['count'] = np.arange(0, 10, 1)\n",
    "        f = fit(last_10, 'count','clusters')\n",
    "        slope = f[0][1]\n",
    "        slopes.append(slope)\n",
    "            \n",
    "    mean_slopes = statistics.mean(slopes)\n",
    "    sd_slopes = statistics.stdev(slopes)\n",
    "    groups.append(g)\n",
    "    means.append(mean_slopes)\n",
    "    sds.append(sd_slopes)\n",
    "\n",
    "rdf = pd.DataFrame(data={'group':groups, 'mean':means, 'stdev':sds})"
   ]
  },
  {
   "cell_type": "code",
   "execution_count": 8,
   "metadata": {
    "collapsed": true
   },
   "outputs": [],
   "source": [
    "genome_count = df.groupby(['group'])['sag_number'].max()"
   ]
  },
  {
   "cell_type": "code",
   "execution_count": 9,
   "metadata": {},
   "outputs": [
    {
     "data": {
      "text/html": [
       "<div>\n",
       "<style scoped>\n",
       "    .dataframe tbody tr th:only-of-type {\n",
       "        vertical-align: middle;\n",
       "    }\n",
       "\n",
       "    .dataframe tbody tr th {\n",
       "        vertical-align: top;\n",
       "    }\n",
       "\n",
       "    .dataframe thead th {\n",
       "        text-align: right;\n",
       "    }\n",
       "</style>\n",
       "<table border=\"1\" class=\"dataframe\">\n",
       "  <thead>\n",
       "    <tr style=\"text-align: right;\">\n",
       "      <th></th>\n",
       "      <th>group</th>\n",
       "      <th>sag_number</th>\n",
       "      <th>mean</th>\n",
       "      <th>stdev</th>\n",
       "    </tr>\n",
       "  </thead>\n",
       "  <tbody>\n",
       "    <tr>\n",
       "      <th>0</th>\n",
       "      <td>AEGEAN-169</td>\n",
       "      <td>413</td>\n",
       "      <td>47.594545</td>\n",
       "      <td>9.331591</td>\n",
       "    </tr>\n",
       "    <tr>\n",
       "      <th>1</th>\n",
       "      <td>ActinomarinaOM1</td>\n",
       "      <td>208</td>\n",
       "      <td>41.023030</td>\n",
       "      <td>5.179071</td>\n",
       "    </tr>\n",
       "    <tr>\n",
       "      <th>2</th>\n",
       "      <td>Arctic97B-4</td>\n",
       "      <td>13</td>\n",
       "      <td>740.872727</td>\n",
       "      <td>123.955019</td>\n",
       "    </tr>\n",
       "    <tr>\n",
       "      <th>3</th>\n",
       "      <td>Ascidiaceihabitans</td>\n",
       "      <td>12</td>\n",
       "      <td>707.263636</td>\n",
       "      <td>177.203825</td>\n",
       "    </tr>\n",
       "    <tr>\n",
       "      <th>4</th>\n",
       "      <td>Ca._Nitrosopumilales</td>\n",
       "      <td>15</td>\n",
       "      <td>176.323636</td>\n",
       "      <td>25.951460</td>\n",
       "    </tr>\n",
       "  </tbody>\n",
       "</table>\n",
       "</div>"
      ],
      "text/plain": [
       "                  group  sag_number        mean       stdev\n",
       "0            AEGEAN-169         413   47.594545    9.331591\n",
       "1       ActinomarinaOM1         208   41.023030    5.179071\n",
       "2           Arctic97B-4          13  740.872727  123.955019\n",
       "3    Ascidiaceihabitans          12  707.263636  177.203825\n",
       "4  Ca._Nitrosopumilales          15  176.323636   25.951460"
      ]
     },
     "execution_count": 9,
     "metadata": {},
     "output_type": "execute_result"
    }
   ],
   "source": [
    "pdf = genome_count.reset_index().merge(rdf, on='group', how='right')\n",
    "pdf.head()"
   ]
  },
  {
   "cell_type": "code",
   "execution_count": 10,
   "metadata": {
    "collapsed": true
   },
   "outputs": [],
   "source": [
    "groups = pd.read_excel('/mnt/scgc/simon/simonsproject/info/GORG_16S_basicinfo_20190123.xlsx')\n",
    "mean_est_group_genome_size = groups.dropna(subset=['Estimated_genome_size']).groupby('Group_short')['Estimated_genome_size'].mean().reset_index().copy()\n",
    "mean_est_group_genome_size.rename(columns={'Group_short':'group'}, inplace=True)"
   ]
  },
  {
   "cell_type": "code",
   "execution_count": 11,
   "metadata": {
    "collapsed": true
   },
   "outputs": [],
   "source": [
    "pdf = pdf.merge(mean_est_group_genome_size, on='group', how='left').sort_values(by='sag_number', ascending=False)"
   ]
  },
  {
   "cell_type": "code",
   "execution_count": 12,
   "metadata": {
    "collapsed": true
   },
   "outputs": [],
   "source": [
    "sns.set_style(\"whitegrid\")\n",
    "gcols = {'AEGEAN-169': '#9b4ec2',\n",
    " 'ActinomarinaOM1': '#4cacdb',\n",
    " 'NS4': '#469057',\n",
    " 'NS5': '#5c6918',\n",
    " 'Prochlorococcus': '#5753c0',\n",
    " 'SAR116': '#d07ce1',\n",
    " 'SAR86': '#d044ab',\n",
    " 'Surface1_SAR11': '#a95f24',\n",
    " 'Surface4_SAR11': '#b13a33',\n",
    " 'Unclass_Rhodobacteraceae': '#4168a7',\n",
    " 'Unclass_SAR11': '#da3956',\n",
    "  'Other':'#A9A9A9'}"
   ]
  },
  {
   "cell_type": "code",
   "execution_count": 13,
   "metadata": {
    "collapsed": true
   },
   "outputs": [],
   "source": [
    "pdf['log_sag_number'] = [math.log(i, 10) for i in pdf['sag_number']]"
   ]
  },
  {
   "cell_type": "code",
   "execution_count": null,
   "metadata": {
    "collapsed": true
   },
   "outputs": [],
   "source": []
  },
  {
   "cell_type": "code",
   "execution_count": 17,
   "metadata": {},
   "outputs": [
    {
     "data": {
      "text/plain": [
       "<matplotlib.legend.Legend at 0x2aaaf253c8d0>"
      ]
     },
     "execution_count": 17,
     "metadata": {},
     "output_type": "execute_result"
    },
    {
     "data": {
      "image/png": "[encoded data removed]",
      "text/plain": [
       "<matplotlib.figure.Figure at 0x2aaae877eb00>"
      ]
     },
     "metadata": {},
     "output_type": "display_data"
    }
   ],
   "source": [
    "from matplotlib.patches import Patch\n",
    "\n",
    "\n",
    "sizes = pdf['Estimated_genome_size'] * 100\n",
    "pdf['color'] = [gcols.get(i, '#A9A9A9') for i in pdf['group']]\n",
    "\n",
    "#for i, l in pdf.iterrows():\n",
    "#    plt.errorbar(l['sag_number'], l['mean'], yerr = l['stdev'], fmt=\",\", color = l['color'], alpha=1)\n",
    "\n",
    "plt.figure(figsize=(10,6))\n",
    "plt.scatter('sag_number','mean', s=sizes, data=pdf, color = pdf['color'], alpha = 0.9)\n",
    "plt.xlim(10,)\n",
    "plt.ylim(0,)\n",
    "plt.xlabel('# of SAGs in Group')\n",
    "plt.ylabel('Clusters per SAG added\\nby Group')\n",
    "plt.xscale('log')\n",
    "\n",
    "pdf['Estimated_genome_size']\n",
    "size_legend = [1, 2, 3, 4] \n",
    "sizes = [i*100 for i in size_legend]\n",
    "labels = ['1 Mbp','2 Mbp','3 Mbp','4 Mbp']\n",
    "\n",
    "markers = []\n",
    "\n",
    "for s in sizes:\n",
    "    marker = plt.scatter([],[], s=s, color='#A9A9A9', alpha=0.9)\n",
    "    markers.append(marker)\n",
    "\n",
    "legend1 = plt.legend(handles=markers, labels=labels, loc='right',\n",
    "    scatterpoints=1, title = 'Average Genome Size')\n",
    "\n",
    "ax = plt.gca().add_artist(legend1)\n",
    "\n",
    "legend_elements = [Patch(facecolor=gcols[i], edgecolor=gcols[i], label=i) for i in gcols]\n",
    "plt.legend(handles=legend_elements, loc=0,\n",
    "          fancybox=False, shadow=False, frameon=False, ncol=2)\n"
   ]
  },
  {
   "cell_type": "code",
   "execution_count": null,
   "metadata": {
    "collapsed": true
   },
   "outputs": [],
   "source": []
  }
 ],
 "metadata": {
  "kernelspec": {
   "display_name": "Python 3",
   "language": "python",
   "name": "python3"
  },
  "language_info": {
   "codemirror_mode": {
    "name": "ipython",
    "version": 3
   },
   "file_extension": ".py",
   "mimetype": "text/x-python",
   "name": "python",
   "nbconvert_exporter": "python",
   "pygments_lexer": "ipython3",
   "version": "3.5.4"
  }
 },
 "nbformat": 4,
 "nbformat_minor": 1
}
