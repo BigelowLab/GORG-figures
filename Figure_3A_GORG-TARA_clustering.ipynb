{
 "cells": [
  {
   "cell_type": "code",
   "execution_count": 1,
   "metadata": {
    "collapsed": true
   },
   "outputs": [],
   "source": [
    "%matplotlib inline\n",
    "\n",
    "import pandas as pd\n",
    "import os\n",
    "import os.path as op\n",
    "import math\n",
    "\n",
    "import matplotlib as m\n",
    "import matplotlib.pyplot as plt\n",
    "import seaborn as sns\n",
    "\n",
    "from collections import Counter\n",
    "\n",
    "cdir = '/mnt/scgc/simon/simonsproject/gorg-tara_clustering'\n",
    "os.chdir(cdir)"
   ]
  },
  {
   "cell_type": "markdown",
   "metadata": {},
   "source": [
    "Data prep:\n",
    "\n",
    "* Downloaded all tropics and subtropics coding sequences used in [this study](http://ocean-microbiome.embl.de/companion.html) that are between 40S and 40N from EBI.  \n",
    "\n",
    "* Translated all sequences from nt to aa sequences + add prefix to sequence names to indicate they came from TARA.  \n",
    "\n",
    "* Called proteins from all GORG SAGs using prodigal with the following parameters:\n",
    "```\n",
    "prodigal -i {input.nfa} -q -p meta \n",
    "```\n",
    "\n",
    "* add prefix to GORG sequence names to indicate they came from either the BATS248 (BATS248) sample, or Global Surface SAGs (GSS)\n",
    "\n",
    "* Combined TARA cds sequences and GORG sequences into one large fasta file (called gorg_tara_tropics.faa).\n",
    "\n",
    "* Run mmseq2 as such:\n",
    "\n",
    "```\n",
    "cd /mnt/scgc/simon/simonsproject/gorg-tara_clustering\n",
    "\n",
    "name=gorg_tara_tropics\n",
    "qual=80minid_m80\n",
    "\n",
    "faa=data/${name}.faa\n",
    "db=analyses/${name}.db\n",
    "db_clustered=analyses/${name}_${qual}.db_clustered\n",
    "rep_seqs=analyses/${name}_${qual}.reps\n",
    "out_fasta=analyses/${name}_${qual}.faa\n",
    "out_tsv=analyses/${name}_${qual}.tsv\n",
    "tmp_dir=data/tmp2/\n",
    "\n",
    "mkdir $tmp_dir\n",
    "\n",
    "threads=50\n",
    "\n",
    "mmseqs createdb $faa $db\n",
    "mmseqs linclust --threads $threads -v 1 --min-seq-id 0.6 --kmer-per-seq 80 $db $db_clustered $tmp_dir\n",
    "mmseqs result2repseq $db $db_clustered $rep_seqs  --threads $threads\n",
    "mmseqs result2flat $db $db $rep_seqs $out_fasta --use-fasta-header\n",
    "mmseqs createtsv $db $db $db_clustered $out_tsv --threads $threads -v 1\n",
    "```\n",
    "\n",
    "Which creates a number of output files, the one of interest is ```analyses/gorg_tara_tropics_80minid_m80.tsv```"
   ]
  },
  {
   "cell_type": "markdown",
   "metadata": {},
   "source": [
    "How many clusters contain both TARA and GORG sequences, and what are their sizes?"
   ]
  },
  {
   "cell_type": "code",
   "execution_count": 2,
   "metadata": {
    "collapsed": true
   },
   "outputs": [],
   "source": [
    "tsv_file = \"analyses/gorg_tara_tropics_80minid_m80.tsv\"\n",
    "\n",
    "# In output tsv file, the first column (c1) indicates the seed sequence for a given cluster.  \n",
    "# This will also serve as the cluster name.\n",
    "# The second column (c2) is a sequence that is a member of the cluster as indicated by c1\n",
    "tsv = pd.read_csv(tsv_file, sep=\"\\t\", names = ['c1','c2'])\n",
    "\n",
    "# extract source of sequence (TARA, GSS or BATS248)\n",
    "tsv['source'] = [i.split(\".\")[0].split(\"_\")[0] for i in tsv['c2']]"
   ]
  },
  {
   "cell_type": "markdown",
   "metadata": {},
   "source": [
    "Calculate the number of sequences from each source in each cluster (source_count):"
   ]
  },
  {
   "cell_type": "code",
   "execution_count": 3,
   "metadata": {
    "collapsed": true
   },
   "outputs": [],
   "source": [
    "source_count = tsv.groupby(['c1','source'])['c2'].count().reset_index().rename(columns={'c2':'seqs_included'})"
   ]
  },
  {
   "cell_type": "markdown",
   "metadata": {},
   "source": [
    "And pivot to count membership by cluster:"
   ]
  },
  {
   "cell_type": "code",
   "execution_count": 4,
   "metadata": {
    "collapsed": true
   },
   "outputs": [],
   "source": [
    "scp = source_count.pivot(columns='source', index='c1', values='seqs_included')"
   ]
  },
  {
   "cell_type": "markdown",
   "metadata": {},
   "source": [
    "Add count of all GORG sequences in cluster column and total sequences in each cluster."
   ]
  },
  {
   "cell_type": "code",
   "execution_count": 5,
   "metadata": {
    "collapsed": true
   },
   "outputs": [],
   "source": [
    "scp['gorg'] = scp['bats248'] + scp['gorgtropics']\n",
    "scp['member_count'] = scp['TARA'] + scp['gorg']"
   ]
  },
  {
   "cell_type": "code",
   "execution_count": 6,
   "metadata": {
    "collapsed": true
   },
   "outputs": [],
   "source": [
    "scp = scp.fillna(0)"
   ]
  },
  {
   "cell_type": "markdown",
   "metadata": {},
   "source": [
    "Print out some summary statistics:"
   ]
  },
  {
   "cell_type": "code",
   "execution_count": 7,
   "metadata": {},
   "outputs": [
    {
     "name": "stdout",
     "output_type": "stream",
     "text": [
      "There are 34855553 total clusters.\n",
      "There are 34351307 clusters with sequences from TARA metagenomes, that is 99 % of total clusters.\n",
      "There are 221401 clusters with sequences from GORG dataset, that is 1 % of total clusters.\n",
      "There are 22411436 singleton sequences from TARA metagenomes, that is 65 % of tara clusters and 64 % of all clusters.\n",
      "There are 0 singleton sequences from GORG dataset, that is 0 % of gorg clusters and 0 % of all clusters.\n",
      "There are 11733402 multi-sequence clusters only in TARA metagenomes, that is 34 % of tara clusters and 34 % of all clusters.\n",
      "There are 14932 multi-sequence clusters only in GORG dataset, that is 7 % of gorg clusters and 0.04 % of all clusters.\n",
      "There are 206469 clusters shared between TARA and GORG, that is 1 % of all clusters\n"
     ]
    }
   ],
   "source": [
    "total_tara_clusts = len(scp[scp['TARA'] > 0])\n",
    "total_gorg_clusts = len(scp[scp['gorg'] > 0])\n",
    "total_clusts = len(scp)\n",
    "\n",
    "print(\"There are\", total_clusts, \"total clusters.\")\n",
    "                        \n",
    "print(\"There are\", total_tara_clusts, \"clusters with sequences from TARA metagenomes,\", \n",
    "      \"that is\", round(total_tara_clusts / total_clusts * 100), \"% of total clusters.\")\n",
    "\n",
    "print(\"There are\", total_gorg_clusts, \"clusters with sequences from GORG dataset,\", \n",
    "      \"that is\", round(total_gorg_clusts / total_clusts * 100), \"% of total clusters.\")\n",
    "\n",
    "tara_singletons = len(scp[(scp['TARA'] == 1) & (scp['gorg'] == 0)])\n",
    "gorg_singletons = len(scp[(scp['gorg'] == 1) & (scp['TARA'] == 0)])\n",
    "\n",
    "print(\"There are\", tara_singletons, \"singleton sequences from TARA metagenomes,\", \"that is\", \n",
    "      round(tara_singletons / total_tara_clusts * 100), \"% of tara clusters and\",\n",
    "      round(tara_singletons / total_clusts * 100), \"% of all clusters.\")\n",
    "\n",
    "print(\"There are\", gorg_singletons, \"singleton sequences from GORG dataset,\",\n",
    "      \"that is\",\n",
    "     round(gorg_singletons / total_gorg_clusts * 100), \"% of gorg clusters and\",\n",
    "     round(gorg_singletons / total_clusts * 100), '% of all clusters.')\n",
    "\n",
    "tara_multi = len(scp[(scp['TARA'] > 1) & (scp['gorg'] == 0)])\n",
    "gorg_multi = len(scp[(scp['gorg'] > 1) & (scp['TARA'] == 0)])\n",
    "\n",
    "print(\"There are\", tara_multi, \"multi-sequence clusters only in TARA metagenomes,\",\n",
    "      \"that is\", \n",
    "      round(tara_multi / total_tara_clusts * 100), \"% of tara clusters and\",\n",
    "      round(tara_multi / total_clusts * 100), \"% of all clusters.\")\n",
    "\n",
    "print(\"There are\", gorg_multi, \"multi-sequence clusters only in GORG dataset,\",\"that is\",\n",
    "     round(gorg_multi / total_gorg_clusts * 100), \"% of gorg clusters and\",\n",
    "     round(gorg_multi / total_clusts * 100, 2), '% of all clusters.')\n",
    "\n",
    "shared_clusts = len(scp[(scp['TARA'] > 0) & (scp['gorg'] > 0)])\n",
    "\n",
    "print(\"There are\", shared_clusts, \"clusters shared between TARA and GORG,\",\n",
    "      \"that is\", round(shared_clusts / total_clusts * 100), \"% of all clusters\")"
   ]
  },
  {
   "cell_type": "code",
   "execution_count": 8,
   "metadata": {
    "collapsed": true
   },
   "outputs": [],
   "source": [
    "scp.to_csv(\"gorg_tara_tropics_80minid_kmer80_counts_by_source.csv\", index=True)"
   ]
  },
  {
   "cell_type": "code",
   "execution_count": 9,
   "metadata": {},
   "outputs": [
    {
     "data": {
      "text/html": [
       "<div>\n",
       "<style scoped>\n",
       "    .dataframe tbody tr th:only-of-type {\n",
       "        vertical-align: middle;\n",
       "    }\n",
       "\n",
       "    .dataframe tbody tr th {\n",
       "        vertical-align: top;\n",
       "    }\n",
       "\n",
       "    .dataframe thead th {\n",
       "        text-align: right;\n",
       "    }\n",
       "</style>\n",
       "<table border=\"1\" class=\"dataframe\">\n",
       "  <thead>\n",
       "    <tr style=\"text-align: right;\">\n",
       "      <th>source</th>\n",
       "      <th>TARA</th>\n",
       "      <th>bats248</th>\n",
       "      <th>gorgtropics</th>\n",
       "      <th>gorg</th>\n",
       "      <th>member_count</th>\n",
       "    </tr>\n",
       "    <tr>\n",
       "      <th>c1</th>\n",
       "      <th></th>\n",
       "      <th></th>\n",
       "      <th></th>\n",
       "      <th></th>\n",
       "      <th></th>\n",
       "    </tr>\n",
       "  </thead>\n",
       "  <tbody>\n",
       "    <tr>\n",
       "      <th>TARA_004_DCM_0.22-1.6_C22365543_1_gene422493</th>\n",
       "      <td>1.0</td>\n",
       "      <td>0.0</td>\n",
       "      <td>0.0</td>\n",
       "      <td>0.0</td>\n",
       "      <td>0.0</td>\n",
       "    </tr>\n",
       "    <tr>\n",
       "      <th>TARA_004_DCM_0.22-1.6_C22365545_1_gene422494</th>\n",
       "      <td>1.0</td>\n",
       "      <td>0.0</td>\n",
       "      <td>0.0</td>\n",
       "      <td>0.0</td>\n",
       "      <td>0.0</td>\n",
       "    </tr>\n",
       "    <tr>\n",
       "      <th>TARA_004_DCM_0.22-1.6_C22365547_1_gene422497</th>\n",
       "      <td>1.0</td>\n",
       "      <td>0.0</td>\n",
       "      <td>0.0</td>\n",
       "      <td>0.0</td>\n",
       "      <td>0.0</td>\n",
       "    </tr>\n",
       "    <tr>\n",
       "      <th>TARA_004_DCM_0.22-1.6_C22365549_1_gene422498</th>\n",
       "      <td>1.0</td>\n",
       "      <td>0.0</td>\n",
       "      <td>0.0</td>\n",
       "      <td>0.0</td>\n",
       "      <td>0.0</td>\n",
       "    </tr>\n",
       "    <tr>\n",
       "      <th>TARA_004_DCM_0.22-1.6_C22365551_1_gene422500</th>\n",
       "      <td>1.0</td>\n",
       "      <td>0.0</td>\n",
       "      <td>0.0</td>\n",
       "      <td>0.0</td>\n",
       "      <td>0.0</td>\n",
       "    </tr>\n",
       "  </tbody>\n",
       "</table>\n",
       "</div>"
      ],
      "text/plain": [
       "source                                        TARA  bats248  gorgtropics  \\\n",
       "c1                                                                         \n",
       "TARA_004_DCM_0.22-1.6_C22365543_1_gene422493   1.0      0.0          0.0   \n",
       "TARA_004_DCM_0.22-1.6_C22365545_1_gene422494   1.0      0.0          0.0   \n",
       "TARA_004_DCM_0.22-1.6_C22365547_1_gene422497   1.0      0.0          0.0   \n",
       "TARA_004_DCM_0.22-1.6_C22365549_1_gene422498   1.0      0.0          0.0   \n",
       "TARA_004_DCM_0.22-1.6_C22365551_1_gene422500   1.0      0.0          0.0   \n",
       "\n",
       "source                                        gorg  member_count  \n",
       "c1                                                                \n",
       "TARA_004_DCM_0.22-1.6_C22365543_1_gene422493   0.0           0.0  \n",
       "TARA_004_DCM_0.22-1.6_C22365545_1_gene422494   0.0           0.0  \n",
       "TARA_004_DCM_0.22-1.6_C22365547_1_gene422497   0.0           0.0  \n",
       "TARA_004_DCM_0.22-1.6_C22365549_1_gene422498   0.0           0.0  \n",
       "TARA_004_DCM_0.22-1.6_C22365551_1_gene422500   0.0           0.0  "
      ]
     },
     "execution_count": 9,
     "metadata": {},
     "output_type": "execute_result"
    }
   ],
   "source": [
    "scp.head()"
   ]
  },
  {
   "cell_type": "markdown",
   "metadata": {},
   "source": [
    "The above takes a while and requires a good amount of RAM.  I ran it, and then closed my notebook session for the day + reloaded the saved dataframe.\n",
    "\n",
    "Next Question: \n",
    "How are sequences from GORG and TARA distributed amongst clusters?"
   ]
  },
  {
   "cell_type": "code",
   "execution_count": 10,
   "metadata": {
    "collapsed": true
   },
   "outputs": [],
   "source": [
    "df = pd.read_csv(\"/mnt/scgc/simon/simonsproject/gorg-tara_clustering/analyses/gorg_tara_tropics_80minid_kmer80_counts_by_source.csv\")[['c1','TARA','gorg']]\n"
   ]
  },
  {
   "cell_type": "code",
   "execution_count": 11,
   "metadata": {
    "collapsed": true
   },
   "outputs": [],
   "source": [
    "df['total'] = df[['TARA','gorg']].sum(axis=1)\n",
    "df['contains_gorg'] = [1 if i > 0 else 0 for i in df['gorg']]\n",
    "df['contains_tara'] = [1 if i > 0 else 0 for i in df['TARA']]\n",
    "\n",
    "binsplits = [0,1, 10, 100, 1000, 5000, 12000]\n",
    "df['bin'] = pd.cut(df['total'], bins=binsplits)\n"
   ]
  },
  {
   "cell_type": "code",
   "execution_count": 12,
   "metadata": {
    "collapsed": true
   },
   "outputs": [],
   "source": [
    "tp = df.groupby(['bin','contains_gorg','contains_tara'])['total'].count().reset_index().rename(columns={'total':'bin_count'})\n",
    "ncd = dict(zip(list(tp['bin'].drop_duplicates()), ['1', '2-10','11-100','101-1000', '1001-5000','5001-12000']))\n",
    "tp['bin_label'] = [ncd[i] for i in tp['bin']]\n",
    "tp['gorg-presence'] = [\"GORG\" if i == 1 else \"\" for i in tp['contains_gorg']]\n",
    "tp['tara-presence'] = [\"Tara\" if i == 1 else \"\" for i in tp['contains_tara']]\n",
    "tp['membership'] = tp['gorg-presence'] + \" and \" + tp['tara-presence'] + ' containing'\n",
    "tp['membership'] = [i if i == 'GORG and Tara containing' else i.replace(\" and \",\"\") + \" only\" for i in tp['membership']]\n",
    "bin_sums = tp.groupby('bin')['bin_count'].sum().reset_index().rename(columns={'bin_count':'total_bin_count'})\n",
    "tp = tp.merge(bin_sums, on='bin', how='outer')\n",
    "tp['log_bin_count'] = [math.log(i, 10) for i in tp['bin_count']]\n"
   ]
  },
  {
   "cell_type": "code",
   "execution_count": 13,
   "metadata": {},
   "outputs": [
    {
     "data": {
      "text/html": [
       "<div>\n",
       "<style scoped>\n",
       "    .dataframe tbody tr th:only-of-type {\n",
       "        vertical-align: middle;\n",
       "    }\n",
       "\n",
       "    .dataframe tbody tr th {\n",
       "        vertical-align: top;\n",
       "    }\n",
       "\n",
       "    .dataframe thead th {\n",
       "        text-align: right;\n",
       "    }\n",
       "</style>\n",
       "<table border=\"1\" class=\"dataframe\">\n",
       "  <thead>\n",
       "    <tr style=\"text-align: right;\">\n",
       "      <th></th>\n",
       "      <th>bin</th>\n",
       "      <th>contains_gorg</th>\n",
       "      <th>contains_tara</th>\n",
       "      <th>bin_count</th>\n",
       "      <th>bin_label</th>\n",
       "      <th>gorg-presence</th>\n",
       "      <th>tara-presence</th>\n",
       "      <th>membership</th>\n",
       "      <th>total_bin_count</th>\n",
       "      <th>log_bin_count</th>\n",
       "    </tr>\n",
       "  </thead>\n",
       "  <tbody>\n",
       "    <tr>\n",
       "      <th>0</th>\n",
       "      <td>(0, 1]</td>\n",
       "      <td>0</td>\n",
       "      <td>1</td>\n",
       "      <td>22263710</td>\n",
       "      <td>1</td>\n",
       "      <td></td>\n",
       "      <td>Tara</td>\n",
       "      <td>Tara containing only</td>\n",
       "      <td>22715792</td>\n",
       "      <td>7.347598</td>\n",
       "    </tr>\n",
       "    <tr>\n",
       "      <th>1</th>\n",
       "      <td>(0, 1]</td>\n",
       "      <td>1</td>\n",
       "      <td>0</td>\n",
       "      <td>452082</td>\n",
       "      <td>1</td>\n",
       "      <td>GORG</td>\n",
       "      <td></td>\n",
       "      <td>GORG containing only</td>\n",
       "      <td>22715792</td>\n",
       "      <td>5.655217</td>\n",
       "    </tr>\n",
       "    <tr>\n",
       "      <th>2</th>\n",
       "      <td>(1, 10]</td>\n",
       "      <td>0</td>\n",
       "      <td>1</td>\n",
       "      <td>10382961</td>\n",
       "      <td>2-10</td>\n",
       "      <td></td>\n",
       "      <td>Tara</td>\n",
       "      <td>Tara containing only</td>\n",
       "      <td>11021815</td>\n",
       "      <td>7.016321</td>\n",
       "    </tr>\n",
       "    <tr>\n",
       "      <th>3</th>\n",
       "      <td>(1, 10]</td>\n",
       "      <td>1</td>\n",
       "      <td>0</td>\n",
       "      <td>51304</td>\n",
       "      <td>2-10</td>\n",
       "      <td>GORG</td>\n",
       "      <td></td>\n",
       "      <td>GORG containing only</td>\n",
       "      <td>11021815</td>\n",
       "      <td>4.710151</td>\n",
       "    </tr>\n",
       "    <tr>\n",
       "      <th>4</th>\n",
       "      <td>(1, 10]</td>\n",
       "      <td>1</td>\n",
       "      <td>1</td>\n",
       "      <td>587550</td>\n",
       "      <td>2-10</td>\n",
       "      <td>GORG</td>\n",
       "      <td>Tara</td>\n",
       "      <td>GORG and Tara containing</td>\n",
       "      <td>11021815</td>\n",
       "      <td>5.769045</td>\n",
       "    </tr>\n",
       "  </tbody>\n",
       "</table>\n",
       "</div>"
      ],
      "text/plain": [
       "       bin  contains_gorg  contains_tara  bin_count bin_label gorg-presence  \\\n",
       "0   (0, 1]              0              1   22263710         1                 \n",
       "1   (0, 1]              1              0     452082         1          GORG   \n",
       "2  (1, 10]              0              1   10382961      2-10                 \n",
       "3  (1, 10]              1              0      51304      2-10          GORG   \n",
       "4  (1, 10]              1              1     587550      2-10          GORG   \n",
       "\n",
       "  tara-presence                membership  total_bin_count  log_bin_count  \n",
       "0          Tara      Tara containing only         22715792       7.347598  \n",
       "1                    GORG containing only         22715792       5.655217  \n",
       "2          Tara      Tara containing only         11021815       7.016321  \n",
       "3                    GORG containing only         11021815       4.710151  \n",
       "4          Tara  GORG and Tara containing         11021815       5.769045  "
      ]
     },
     "execution_count": 13,
     "metadata": {},
     "output_type": "execute_result"
    }
   ],
   "source": [
    "tp.head()"
   ]
  },
  {
   "cell_type": "code",
   "execution_count": 15,
   "metadata": {},
   "outputs": [
    {
     "name": "stderr",
     "output_type": "stream",
     "text": [
      "/mnt/scgc_nfs/opt/common/anaconda3/4.0.0/lib/python3.5/site-packages/seaborn-0.7.1-py3.5.egg/seaborn/categorical.py:1468: FutureWarning: remove_na is deprecated and is a private function. Do not use.\n",
      "  stat_data = remove_na(group_data[hue_mask])\n"
     ]
    },
    {
     "data": {
      "text/plain": [
       "<matplotlib.legend.Legend at 0x2ab0f28cf860>"
      ]
     },
     "execution_count": 15,
     "metadata": {},
     "output_type": "execute_result"
    },
    {
     "data": {
      "image/png": "[encoded data removed]",
      "text/plain": [
       "<matplotlib.figure.Figure at 0x2ab0f27f5f60>"
      ]
     },
     "metadata": {},
     "output_type": "display_data"
    }
   ],
   "source": [
    "sns.set_style('whitegrid')\n",
    "fig = plt.figure(figsize=(8,6))\n",
    "gs = m.gridspec.GridSpec(2,1,height_ratios=[10,1])\n",
    "ax = plt.subplot(gs[0])\n",
    "\n",
    "colors = [\"#44A8DE\",\n",
    "\"#8e5db0\",\n",
    "\"#729b57\"\n",
    "]\n",
    "\n",
    "sns.barplot(x = 'bin_label',\n",
    "            y = 'log_bin_count',\n",
    "            hue='membership', \n",
    "            data=tp, \n",
    "            hue_order=['GORG containing only', 'GORG and Tara containing','Tara containing only'],\n",
    "           palette = colors)\n",
    "\n",
    "\n",
    "plt.xlabel('Cluster Size')\n",
    "plt.ylabel('Log Total Number of Sequences')\n",
    "plt.title('Sequence Distribution by Cluster Size')\n",
    "plt.legend(loc=1)\n",
    "\n",
    "#plt.savefig(op.join(plotdir, \"gorg_tara_seq_clust_count_80id_80k.png\"), dpi=300)\n",
    "#plt.savefig(op.join(plotdir, \"gorg_tara_seq_clust_count_80id_80k.svg\"))"
   ]
  },
  {
   "cell_type": "code",
   "execution_count": null,
   "metadata": {
    "collapsed": true
   },
   "outputs": [],
   "source": []
  }
 ],
 "metadata": {
  "kernelspec": {
   "display_name": "Python 3",
   "language": "python",
   "name": "python3"
  },
  "language_info": {
   "codemirror_mode": {
    "name": "ipython",
    "version": 3
   },
   "file_extension": ".py",
   "mimetype": "text/x-python",
   "name": "python",
   "nbconvert_exporter": "python",
   "pygments_lexer": "ipython3",
   "version": "3.5.4"
  }
 },
 "nbformat": 4,
 "nbformat_minor": 1
}
